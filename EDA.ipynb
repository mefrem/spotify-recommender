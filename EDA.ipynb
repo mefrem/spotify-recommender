{
 "cells": [
  {
   "cell_type": "code",
   "execution_count": 1,
   "metadata": {},
   "outputs": [],
   "source": [
    "import pandas as pd\n",
    "import numpy as np"
   ]
  },
  {
   "cell_type": "code",
   "execution_count": 2,
   "metadata": {},
   "outputs": [],
   "source": [
    "song_path = './spotify-audio-features/SpotifyAudioFeaturesApril2019.csv'\n",
    "songs = pd.read_csv(song_path)"
   ]
  },
  {
   "cell_type": "code",
   "execution_count": 3,
   "metadata": {},
   "outputs": [
    {
     "name": "stdout",
     "output_type": "stream",
     "text": [
      "(130663, 17)\n"
     ]
    },
    {
     "data": {
      "text/html": [
       "<div>\n",
       "<style scoped>\n",
       "    .dataframe tbody tr th:only-of-type {\n",
       "        vertical-align: middle;\n",
       "    }\n",
       "\n",
       "    .dataframe tbody tr th {\n",
       "        vertical-align: top;\n",
       "    }\n",
       "\n",
       "    .dataframe thead th {\n",
       "        text-align: right;\n",
       "    }\n",
       "</style>\n",
       "<table border=\"1\" class=\"dataframe\">\n",
       "  <thead>\n",
       "    <tr style=\"text-align: right;\">\n",
       "      <th></th>\n",
       "      <th>artist_name</th>\n",
       "      <th>track_id</th>\n",
       "      <th>track_name</th>\n",
       "      <th>acousticness</th>\n",
       "      <th>danceability</th>\n",
       "      <th>duration_ms</th>\n",
       "      <th>energy</th>\n",
       "      <th>instrumentalness</th>\n",
       "      <th>key</th>\n",
       "      <th>liveness</th>\n",
       "      <th>loudness</th>\n",
       "      <th>mode</th>\n",
       "      <th>speechiness</th>\n",
       "      <th>tempo</th>\n",
       "      <th>time_signature</th>\n",
       "      <th>valence</th>\n",
       "      <th>popularity</th>\n",
       "    </tr>\n",
       "  </thead>\n",
       "  <tbody>\n",
       "    <tr>\n",
       "      <th>59921</th>\n",
       "      <td>Foster The People</td>\n",
       "      <td>0qcVzQKAVn7kYWJKRtXedl</td>\n",
       "      <td>Pumped Up Kicks</td>\n",
       "      <td>0.17700</td>\n",
       "      <td>0.759</td>\n",
       "      <td>238147</td>\n",
       "      <td>0.620</td>\n",
       "      <td>0.139000</td>\n",
       "      <td>5</td>\n",
       "      <td>0.0890</td>\n",
       "      <td>-7.584</td>\n",
       "      <td>0</td>\n",
       "      <td>0.0293</td>\n",
       "      <td>128.151</td>\n",
       "      <td>4</td>\n",
       "      <td>0.935</td>\n",
       "      <td>29</td>\n",
       "    </tr>\n",
       "    <tr>\n",
       "      <th>94313</th>\n",
       "      <td>Foster The People</td>\n",
       "      <td>3ltrJJo4fHEQgfaZb6M2Ws</td>\n",
       "      <td>Worst Nites - Valleyz Remix</td>\n",
       "      <td>0.00308</td>\n",
       "      <td>0.660</td>\n",
       "      <td>201747</td>\n",
       "      <td>0.823</td>\n",
       "      <td>0.000114</td>\n",
       "      <td>2</td>\n",
       "      <td>0.3520</td>\n",
       "      <td>-4.128</td>\n",
       "      <td>1</td>\n",
       "      <td>0.0423</td>\n",
       "      <td>113.980</td>\n",
       "      <td>4</td>\n",
       "      <td>0.594</td>\n",
       "      <td>46</td>\n",
       "    </tr>\n",
       "    <tr>\n",
       "      <th>94320</th>\n",
       "      <td>Foster The People</td>\n",
       "      <td>3MFjNHTACaExHfLKhFE81Q</td>\n",
       "      <td>Worst Nites - Ehiorobo Remix</td>\n",
       "      <td>0.00223</td>\n",
       "      <td>0.915</td>\n",
       "      <td>162733</td>\n",
       "      <td>0.312</td>\n",
       "      <td>0.014700</td>\n",
       "      <td>11</td>\n",
       "      <td>0.1450</td>\n",
       "      <td>-5.217</td>\n",
       "      <td>1</td>\n",
       "      <td>0.0702</td>\n",
       "      <td>119.069</td>\n",
       "      <td>4</td>\n",
       "      <td>0.576</td>\n",
       "      <td>43</td>\n",
       "    </tr>\n",
       "    <tr>\n",
       "      <th>94321</th>\n",
       "      <td>Foster The People</td>\n",
       "      <td>0RjzeKCL8sL993ZmK2FjkE</td>\n",
       "      <td>Worst Nites - DJ Tunez Remix</td>\n",
       "      <td>0.01320</td>\n",
       "      <td>0.493</td>\n",
       "      <td>224227</td>\n",
       "      <td>0.598</td>\n",
       "      <td>0.004630</td>\n",
       "      <td>11</td>\n",
       "      <td>0.1320</td>\n",
       "      <td>-10.023</td>\n",
       "      <td>0</td>\n",
       "      <td>0.0787</td>\n",
       "      <td>141.539</td>\n",
       "      <td>5</td>\n",
       "      <td>0.840</td>\n",
       "      <td>47</td>\n",
       "    </tr>\n",
       "    <tr>\n",
       "      <th>98645</th>\n",
       "      <td>Foster The People</td>\n",
       "      <td>7akT9byQsktEwWGHyLeSPs</td>\n",
       "      <td>Style</td>\n",
       "      <td>0.00633</td>\n",
       "      <td>0.590</td>\n",
       "      <td>223907</td>\n",
       "      <td>0.906</td>\n",
       "      <td>0.001510</td>\n",
       "      <td>5</td>\n",
       "      <td>0.3860</td>\n",
       "      <td>-2.892</td>\n",
       "      <td>1</td>\n",
       "      <td>0.0618</td>\n",
       "      <td>111.997</td>\n",
       "      <td>4</td>\n",
       "      <td>0.541</td>\n",
       "      <td>70</td>\n",
       "    </tr>\n",
       "    <tr>\n",
       "      <th>121115</th>\n",
       "      <td>Foster The People</td>\n",
       "      <td>4v0CuFW0bEMBQ1gRn2mB3X</td>\n",
       "      <td>Sit Next to Me - Stereotypes Remix</td>\n",
       "      <td>0.17300</td>\n",
       "      <td>0.680</td>\n",
       "      <td>190720</td>\n",
       "      <td>0.738</td>\n",
       "      <td>0.000360</td>\n",
       "      <td>6</td>\n",
       "      <td>0.3700</td>\n",
       "      <td>-4.881</td>\n",
       "      <td>0</td>\n",
       "      <td>0.0331</td>\n",
       "      <td>105.015</td>\n",
       "      <td>4</td>\n",
       "      <td>0.675</td>\n",
       "      <td>66</td>\n",
       "    </tr>\n",
       "    <tr>\n",
       "      <th>125302</th>\n",
       "      <td>Foster The People</td>\n",
       "      <td>7lVoniii4QwhNjCeHij2xZ</td>\n",
       "      <td>Worst Nites</td>\n",
       "      <td>0.00834</td>\n",
       "      <td>0.741</td>\n",
       "      <td>211920</td>\n",
       "      <td>0.752</td>\n",
       "      <td>0.001650</td>\n",
       "      <td>2</td>\n",
       "      <td>0.0438</td>\n",
       "      <td>-4.968</td>\n",
       "      <td>1</td>\n",
       "      <td>0.0386</td>\n",
       "      <td>114.020</td>\n",
       "      <td>4</td>\n",
       "      <td>0.609</td>\n",
       "      <td>63</td>\n",
       "    </tr>\n",
       "  </tbody>\n",
       "</table>\n",
       "</div>"
      ],
      "text/plain": [
       "              artist_name                track_id  \\\n",
       "59921   Foster The People  0qcVzQKAVn7kYWJKRtXedl   \n",
       "94313   Foster The People  3ltrJJo4fHEQgfaZb6M2Ws   \n",
       "94320   Foster The People  3MFjNHTACaExHfLKhFE81Q   \n",
       "94321   Foster The People  0RjzeKCL8sL993ZmK2FjkE   \n",
       "98645   Foster The People  7akT9byQsktEwWGHyLeSPs   \n",
       "121115  Foster The People  4v0CuFW0bEMBQ1gRn2mB3X   \n",
       "125302  Foster The People  7lVoniii4QwhNjCeHij2xZ   \n",
       "\n",
       "                                track_name  acousticness  danceability  \\\n",
       "59921                      Pumped Up Kicks       0.17700         0.759   \n",
       "94313          Worst Nites - Valleyz Remix       0.00308         0.660   \n",
       "94320         Worst Nites - Ehiorobo Remix       0.00223         0.915   \n",
       "94321         Worst Nites - DJ Tunez Remix       0.01320         0.493   \n",
       "98645                                Style       0.00633         0.590   \n",
       "121115  Sit Next to Me - Stereotypes Remix       0.17300         0.680   \n",
       "125302                         Worst Nites       0.00834         0.741   \n",
       "\n",
       "        duration_ms  energy  instrumentalness  key  liveness  loudness  mode  \\\n",
       "59921        238147   0.620          0.139000    5    0.0890    -7.584     0   \n",
       "94313        201747   0.823          0.000114    2    0.3520    -4.128     1   \n",
       "94320        162733   0.312          0.014700   11    0.1450    -5.217     1   \n",
       "94321        224227   0.598          0.004630   11    0.1320   -10.023     0   \n",
       "98645        223907   0.906          0.001510    5    0.3860    -2.892     1   \n",
       "121115       190720   0.738          0.000360    6    0.3700    -4.881     0   \n",
       "125302       211920   0.752          0.001650    2    0.0438    -4.968     1   \n",
       "\n",
       "        speechiness    tempo  time_signature  valence  popularity  \n",
       "59921        0.0293  128.151               4    0.935          29  \n",
       "94313        0.0423  113.980               4    0.594          46  \n",
       "94320        0.0702  119.069               4    0.576          43  \n",
       "94321        0.0787  141.539               5    0.840          47  \n",
       "98645        0.0618  111.997               4    0.541          70  \n",
       "121115       0.0331  105.015               4    0.675          66  \n",
       "125302       0.0386  114.020               4    0.609          63  "
      ]
     },
     "execution_count": 3,
     "metadata": {},
     "output_type": "execute_result"
    }
   ],
   "source": [
    "print(songs.shape)\n",
    "songs.loc[songs['artist_name']=='Foster The People']"
   ]
  },
  {
   "cell_type": "code",
   "execution_count": 4,
   "metadata": {},
   "outputs": [],
   "source": [
    "test_song = songs.loc[songs['track_name']=='Pumped Up Kicks']"
   ]
  },
  {
   "cell_type": "markdown",
   "metadata": {},
   "source": [
    "## KNN model"
   ]
  },
  {
   "cell_type": "code",
   "execution_count": 6,
   "metadata": {},
   "outputs": [
    {
     "name": "stdout",
     "output_type": "stream",
     "text": [
      "Requirement already up-to-date: category_encoders in /Users/maxefremov/anaconda3/lib/python3.7/site-packages (2.1.0)\n",
      "Requirement already satisfied, skipping upgrade: numpy>=1.11.3 in /Users/maxefremov/anaconda3/lib/python3.7/site-packages (from category_encoders) (1.16.2)\n",
      "Requirement already satisfied, skipping upgrade: scipy>=0.19.0 in /Users/maxefremov/anaconda3/lib/python3.7/site-packages (from category_encoders) (1.2.1)\n",
      "Requirement already satisfied, skipping upgrade: scikit-learn>=0.20.0 in /Users/maxefremov/anaconda3/lib/python3.7/site-packages (from category_encoders) (0.20.3)\n",
      "Requirement already satisfied, skipping upgrade: pandas>=0.21.1 in /Users/maxefremov/anaconda3/lib/python3.7/site-packages (from category_encoders) (0.24.2)\n",
      "Requirement already satisfied, skipping upgrade: patsy>=0.4.1 in /Users/maxefremov/anaconda3/lib/python3.7/site-packages (from category_encoders) (0.5.1)\n",
      "Requirement already satisfied, skipping upgrade: statsmodels>=0.6.1 in /Users/maxefremov/anaconda3/lib/python3.7/site-packages (from category_encoders) (0.9.0)\n",
      "Requirement already satisfied, skipping upgrade: pytz>=2011k in /Users/maxefremov/anaconda3/lib/python3.7/site-packages (from pandas>=0.21.1->category_encoders) (2018.9)\n",
      "Requirement already satisfied, skipping upgrade: python-dateutil>=2.5.0 in /Users/maxefremov/anaconda3/lib/python3.7/site-packages (from pandas>=0.21.1->category_encoders) (2.8.0)\n",
      "Requirement already satisfied, skipping upgrade: six in /Users/maxefremov/anaconda3/lib/python3.7/site-packages (from patsy>=0.4.1->category_encoders) (1.12.0)\n"
     ]
    }
   ],
   "source": [
    "!pip install --upgrade category_encoders"
   ]
  },
  {
   "cell_type": "code",
   "execution_count": 9,
   "metadata": {},
   "outputs": [
    {
     "data": {
      "text/plain": [
       "Pipeline(memory=None,\n",
       "     steps=[('ordinalencoder', OrdinalEncoder(cols=['artist_name', 'track_id', 'track_name'],\n",
       "        drop_invariant=False, handle_missing='value',\n",
       "        handle_unknown='value',\n",
       "        mapping=[{'col': 'artist_name', 'mapping': YG                               1\n",
       "R3HAB                            2\n",
       "Chri...    -2\n",
       "Length: 108891, dtype: int64, 'data_type': dtype('O')}],\n",
       "        return_df=True, verbose=0))])"
      ]
     },
     "execution_count": 9,
     "metadata": {},
     "output_type": "execute_result"
    }
   ],
   "source": [
    "import numpy as np\n",
    "import pandas as pd\n",
    "import category_encoders as ce\n",
    "from sklearn.pipeline import make_pipeline\n",
    "from sklearn.feature_selection import SelectKBest\n",
    "from sklearn.model_selection import train_test_split\n",
    "from sklearn.preprocessing import OneHotEncoder\n",
    "from sklearn.preprocessing import MinMaxScaler\n",
    "from sklearn.neighbors import NearestNeighbors\n",
    "\n",
    "# Split train into train & val\n",
    "# train, val = train_test_split(train, train_size=0.80, test_size=0.20, \n",
    "#                               stratify=train['status_group'], random_state=42)\n",
    "\n",
    "cols_to_norm = ['key','loudness','speechiness','tempo','popularity']\n",
    "scaler = MinMaxScaler()\n",
    "songs[cols_to_norm] = scaler.fit_transform(songs[cols_to_norm])\n",
    "\n",
    "\n",
    "\n",
    "pipeline = make_pipeline(\n",
    "    ce.OrdinalEncoder(), \n",
    "#     NearestNeighbors(30)\n",
    ")\n",
    "\n",
    "pipeline.fit(songs)"
   ]
  },
  {
   "cell_type": "code",
   "execution_count": 12,
   "metadata": {},
   "outputs": [],
   "source": [
    "X_train = songs['artist_name']\n",
    "\n",
    "\n",
    "# Get a list of the numeric features\n",
    "numeric_features = songs.select_dtypes(include='number').columns.tolist()\n",
    "\n",
    "# Get a series with the cardinality of the nonnumeric features\n",
    "cardinality = songs.select_dtypes(exclude='number').nunique()\n",
    "\n",
    "# Get a list of all categorical features with cardinality <= 50\n",
    "categorical_features = cardinality[cardinality <= 100].index.tolist()\n",
    "\n",
    "# Combine the lists \n",
    "features = numeric_features + categorical_features"
   ]
  },
  {
   "cell_type": "code",
   "execution_count": 13,
   "metadata": {},
   "outputs": [],
   "source": [
    "X_train = songs[features]"
   ]
  },
  {
   "cell_type": "code",
   "execution_count": 15,
   "metadata": {},
   "outputs": [
    {
     "data": {
      "text/plain": [
       "NearestNeighbors(algorithm='auto', leaf_size=30, metric='minkowski',\n",
       "         metric_params=None, n_jobs=None, n_neighbors=30, p=2, radius=1.0)"
      ]
     },
     "execution_count": 15,
     "metadata": {},
     "output_type": "execute_result"
    }
   ],
   "source": [
    "import numpy as np\n",
    "from sklearn.neighbors import NearestNeighbors\n",
    "samples = [[0, 0, 2], [1, 0, 0], [0, 0, 1]]\n",
    "\n",
    "neigh = NearestNeighbors(30)\n",
    "neigh.fit(X_train)"
   ]
  },
  {
   "cell_type": "code",
   "execution_count": null,
   "metadata": {},
   "outputs": [],
   "source": []
  },
  {
   "cell_type": "code",
   "execution_count": 21,
   "metadata": {},
   "outputs": [
    {
     "data": {
      "text/plain": [
       "(array([[144.8687136 , 145.00429588, 145.04597596, 145.05250334,\n",
       "         145.06920678, 145.11873947, 145.17157351, 145.174166  ,\n",
       "         145.18488238, 145.21300876, 145.22875854, 145.26399142,\n",
       "         145.36866013, 145.37223289, 145.3990183 , 145.44785493,\n",
       "         145.50051776, 145.56362992, 145.62155743, 145.68846255,\n",
       "         145.70014931, 145.7165752 , 145.80430033, 145.8982654 ,\n",
       "         146.07447679, 146.10666814, 146.1126796 , 146.31748443,\n",
       "         146.33486471, 146.36712841],\n",
       "        [131.11795894, 131.12630394, 131.15425397, 131.17765186,\n",
       "         131.19888157, 131.21574161, 131.25626217, 131.2817638 ,\n",
       "         131.35032063, 131.39067856, 131.52217472, 131.64897757,\n",
       "         131.64994056, 131.75504821, 131.75862251, 131.76869712,\n",
       "         131.79508224, 131.8430817 , 131.86112649, 131.89965486,\n",
       "         131.99450671, 132.00319436, 132.0113628 , 132.04822718,\n",
       "         132.07148176, 132.14178715, 132.22497765, 132.33099965,\n",
       "         132.5660783 , 132.65704956]]),\n",
       " array([[ 92748,  29004,  85568,  35493,  37146,  80596,  24726, 127273,\n",
       "         128488,  57412, 110967,  37884,  40513,  81676,  41161,  78147,\n",
       "          62370,  48692, 124772,  82928,  83392,  30927,   2721,  56389,\n",
       "         110122,   9935, 126296,  11520,    262, 128012],\n",
       "        [103861, 129114,  58318,  59921,  48268,  24683, 124752, 127980,\n",
       "          48362, 120110,  81183,  15439,  49932,  56677,  24020, 126094,\n",
       "         101711,  47625,  24390,  28180,  48364,  45328, 109931,  32223,\n",
       "         120638,  89344, 103410, 114630,  98526,  45533]]))"
      ]
     },
     "execution_count": 21,
     "metadata": {},
     "output_type": "execute_result"
    }
   ],
   "source": [
    "neigh.kneighbors(test_song[features])\n",
    "# dir(neigh)"
   ]
  },
  {
   "cell_type": "markdown",
   "metadata": {},
   "source": [
    "## Minimize objective function attempt"
   ]
  },
  {
   "cell_type": "code",
   "execution_count": 35,
   "metadata": {},
   "outputs": [],
   "source": [
    "songs['score'] = 0"
   ]
  },
  {
   "cell_type": "code",
   "execution_count": 124,
   "metadata": {},
   "outputs": [
    {
     "name": "stderr",
     "output_type": "stream",
     "text": [
      "/Users/maxefremov/anaconda3/envs/U4-S1-NLP/lib/python3.7/site-packages/sklearn/preprocessing/data.py:323: DataConversionWarning: Data with input dtype int64, float64 were all converted to float64 by MinMaxScaler.\n",
      "  return self.partial_fit(X, y)\n"
     ]
    }
   ],
   "source": [
    "from sklearn.preprocessing import MinMaxScaler\n",
    "cols_to_norm = ['key','loudness','speechiness','tempo','popularity']\n",
    "scaler = MinMaxScaler()\n",
    "songs[cols_to_norm] = scaler.fit_transform(songs[cols_to_norm])"
   ]
  },
  {
   "cell_type": "code",
   "execution_count": 55,
   "metadata": {},
   "outputs": [
    {
     "name": "stderr",
     "output_type": "stream",
     "text": [
      "/Users/maxefremov/anaconda3/envs/U4-S1-NLP/lib/python3.7/site-packages/ipykernel_launcher.py:1: SettingWithCopyWarning: \n",
      "A value is trying to be set on a copy of a slice from a DataFrame.\n",
      "Try using .loc[row_indexer,col_indexer] = value instead\n",
      "\n",
      "See the caveats in the documentation: http://pandas.pydata.org/pandas-docs/stable/indexing.html#indexing-view-versus-copy\n",
      "  \"\"\"Entry point for launching an IPython kernel.\n"
     ]
    }
   ],
   "source": []
  },
  {
   "cell_type": "code",
   "execution_count": 56,
   "metadata": {},
   "outputs": [
    {
     "data": {
      "text/html": [
       "<div>\n",
       "<style scoped>\n",
       "    .dataframe tbody tr th:only-of-type {\n",
       "        vertical-align: middle;\n",
       "    }\n",
       "\n",
       "    .dataframe tbody tr th {\n",
       "        vertical-align: top;\n",
       "    }\n",
       "\n",
       "    .dataframe thead th {\n",
       "        text-align: right;\n",
       "    }\n",
       "</style>\n",
       "<table border=\"1\" class=\"dataframe\">\n",
       "  <thead>\n",
       "    <tr style=\"text-align: right;\">\n",
       "      <th></th>\n",
       "      <th>artist_name</th>\n",
       "      <th>track_id</th>\n",
       "      <th>track_name</th>\n",
       "      <th>acousticness</th>\n",
       "      <th>danceability</th>\n",
       "      <th>duration_ms</th>\n",
       "      <th>energy</th>\n",
       "      <th>instrumentalness</th>\n",
       "      <th>key</th>\n",
       "      <th>liveness</th>\n",
       "      <th>loudness</th>\n",
       "      <th>mode</th>\n",
       "      <th>speechiness</th>\n",
       "      <th>tempo</th>\n",
       "      <th>time_signature</th>\n",
       "      <th>valence</th>\n",
       "      <th>popularity</th>\n",
       "      <th>score</th>\n",
       "    </tr>\n",
       "  </thead>\n",
       "  <tbody>\n",
       "    <tr>\n",
       "      <th>95520</th>\n",
       "      <td>Wiz Khalifa</td>\n",
       "      <td>4JCr0Kj0mdFaafkeQKRrTZ</td>\n",
       "      <td>Bottle Poppers</td>\n",
       "      <td>0.0628</td>\n",
       "      <td>0.879</td>\n",
       "      <td>187158</td>\n",
       "      <td>0.662</td>\n",
       "      <td>0.0</td>\n",
       "      <td>0.181818</td>\n",
       "      <td>0.243</td>\n",
       "      <td>0.897081</td>\n",
       "      <td>1</td>\n",
       "      <td>0.308489</td>\n",
       "      <td>0.530224</td>\n",
       "      <td>4</td>\n",
       "      <td>0.773</td>\n",
       "      <td>0.53</td>\n",
       "      <td>4.885594</td>\n",
       "    </tr>\n",
       "  </tbody>\n",
       "</table>\n",
       "</div>"
      ],
      "text/plain": [
       "       artist_name                track_id      track_name  acousticness  \\\n",
       "95520  Wiz Khalifa  4JCr0Kj0mdFaafkeQKRrTZ  Bottle Poppers        0.0628   \n",
       "\n",
       "       danceability  duration_ms  energy  instrumentalness       key  \\\n",
       "95520         0.879       187158   0.662               0.0  0.181818   \n",
       "\n",
       "       liveness  loudness  mode  speechiness     tempo  time_signature  \\\n",
       "95520     0.243  0.897081     1     0.308489  0.530224               4   \n",
       "\n",
       "       valence  popularity     score  \n",
       "95520    0.773        0.53  4.885594  "
      ]
     },
     "execution_count": 56,
     "metadata": {},
     "output_type": "execute_result"
    }
   ],
   "source": [
    "test_song"
   ]
  },
  {
   "cell_type": "code",
   "execution_count": null,
   "metadata": {},
   "outputs": [],
   "source": [
    "cols_to_minimize = ['acousticness','danceability','energy','instrumentalness','liveness','loudness','speechiness','tempo','valence','popularity']\n",
    "\n"
   ]
  },
  {
   "cell_type": "code",
   "execution_count": 57,
   "metadata": {},
   "outputs": [
    {
     "data": {
      "text/html": [
       "<div>\n",
       "<style scoped>\n",
       "    .dataframe tbody tr th:only-of-type {\n",
       "        vertical-align: middle;\n",
       "    }\n",
       "\n",
       "    .dataframe tbody tr th {\n",
       "        vertical-align: top;\n",
       "    }\n",
       "\n",
       "    .dataframe thead th {\n",
       "        text-align: right;\n",
       "    }\n",
       "</style>\n",
       "<table border=\"1\" class=\"dataframe\">\n",
       "  <thead>\n",
       "    <tr style=\"text-align: right;\">\n",
       "      <th></th>\n",
       "      <th>artist_name</th>\n",
       "      <th>track_id</th>\n",
       "      <th>track_name</th>\n",
       "      <th>acousticness</th>\n",
       "      <th>danceability</th>\n",
       "      <th>duration_ms</th>\n",
       "      <th>energy</th>\n",
       "      <th>instrumentalness</th>\n",
       "      <th>key</th>\n",
       "      <th>liveness</th>\n",
       "      <th>loudness</th>\n",
       "      <th>mode</th>\n",
       "      <th>speechiness</th>\n",
       "      <th>tempo</th>\n",
       "      <th>time_signature</th>\n",
       "      <th>valence</th>\n",
       "      <th>popularity</th>\n",
       "      <th>score</th>\n",
       "    </tr>\n",
       "  </thead>\n",
       "  <tbody>\n",
       "    <tr>\n",
       "      <th>0</th>\n",
       "      <td>YG</td>\n",
       "      <td>2RM4jf1Xa9zPgMGRDiht8O</td>\n",
       "      <td>Big Bank feat. 2 Chainz, Big Sean, Nicki Minaj</td>\n",
       "      <td>0.00582</td>\n",
       "      <td>0.743</td>\n",
       "      <td>238373</td>\n",
       "      <td>0.339</td>\n",
       "      <td>0.0</td>\n",
       "      <td>0.090909</td>\n",
       "      <td>0.0812</td>\n",
       "      <td>0.846552</td>\n",
       "      <td>1</td>\n",
       "      <td>0.423395</td>\n",
       "      <td>0.815763</td>\n",
       "      <td>4</td>\n",
       "      <td>0.118</td>\n",
       "      <td>0.15</td>\n",
       "      <td>0</td>\n",
       "    </tr>\n",
       "  </tbody>\n",
       "</table>\n",
       "</div>"
      ],
      "text/plain": [
       "  artist_name                track_id  \\\n",
       "0          YG  2RM4jf1Xa9zPgMGRDiht8O   \n",
       "\n",
       "                                       track_name  acousticness  danceability  \\\n",
       "0  Big Bank feat. 2 Chainz, Big Sean, Nicki Minaj       0.00582         0.743   \n",
       "\n",
       "   duration_ms  energy  instrumentalness       key  liveness  loudness  mode  \\\n",
       "0       238373   0.339               0.0  0.090909    0.0812  0.846552     1   \n",
       "\n",
       "   speechiness     tempo  time_signature  valence  popularity  score  \n",
       "0     0.423395  0.815763               4    0.118        0.15      0  "
      ]
     },
     "execution_count": 57,
     "metadata": {},
     "output_type": "execute_result"
    }
   ],
   "source": [
    "songs.head(1)"
   ]
  },
  {
   "cell_type": "code",
   "execution_count": null,
   "metadata": {},
   "outputs": [],
   "source": [
    "test_song['score'] = test_song[cols_to_minimize].sum(axis=1)"
   ]
  },
  {
   "cell_type": "code",
   "execution_count": 58,
   "metadata": {},
   "outputs": [],
   "source": [
    "songs['score'] = songs[cols_to_minimize].sum(axis=1)"
   ]
  },
  {
   "cell_type": "code",
   "execution_count": 125,
   "metadata": {},
   "outputs": [
    {
     "data": {
      "text/html": [
       "<div>\n",
       "<style scoped>\n",
       "    .dataframe tbody tr th:only-of-type {\n",
       "        vertical-align: middle;\n",
       "    }\n",
       "\n",
       "    .dataframe tbody tr th {\n",
       "        vertical-align: top;\n",
       "    }\n",
       "\n",
       "    .dataframe thead th {\n",
       "        text-align: right;\n",
       "    }\n",
       "</style>\n",
       "<table border=\"1\" class=\"dataframe\">\n",
       "  <thead>\n",
       "    <tr style=\"text-align: right;\">\n",
       "      <th></th>\n",
       "      <th>artist_name</th>\n",
       "      <th>track_id</th>\n",
       "      <th>track_name</th>\n",
       "      <th>acousticness</th>\n",
       "      <th>danceability</th>\n",
       "      <th>duration_ms</th>\n",
       "      <th>energy</th>\n",
       "      <th>instrumentalness</th>\n",
       "      <th>key</th>\n",
       "      <th>liveness</th>\n",
       "      <th>loudness</th>\n",
       "      <th>mode</th>\n",
       "      <th>speechiness</th>\n",
       "      <th>tempo</th>\n",
       "      <th>time_signature</th>\n",
       "      <th>valence</th>\n",
       "      <th>popularity</th>\n",
       "    </tr>\n",
       "  </thead>\n",
       "  <tbody>\n",
       "    <tr>\n",
       "      <th>59921</th>\n",
       "      <td>Foster The People</td>\n",
       "      <td>0qcVzQKAVn7kYWJKRtXedl</td>\n",
       "      <td>Pumped Up Kicks</td>\n",
       "      <td>0.177</td>\n",
       "      <td>0.759</td>\n",
       "      <td>238147</td>\n",
       "      <td>0.62</td>\n",
       "      <td>0.139</td>\n",
       "      <td>0.454545</td>\n",
       "      <td>0.089</td>\n",
       "      <td>0.848073</td>\n",
       "      <td>0</td>\n",
       "      <td>0.030331</td>\n",
       "      <td>0.512639</td>\n",
       "      <td>4</td>\n",
       "      <td>0.935</td>\n",
       "      <td>0.29</td>\n",
       "    </tr>\n",
       "  </tbody>\n",
       "</table>\n",
       "</div>"
      ],
      "text/plain": [
       "             artist_name                track_id       track_name  \\\n",
       "59921  Foster The People  0qcVzQKAVn7kYWJKRtXedl  Pumped Up Kicks   \n",
       "\n",
       "       acousticness  danceability  duration_ms  energy  instrumentalness  \\\n",
       "59921         0.177         0.759       238147    0.62             0.139   \n",
       "\n",
       "            key  liveness  loudness  mode  speechiness     tempo  \\\n",
       "59921  0.454545     0.089  0.848073     0     0.030331  0.512639   \n",
       "\n",
       "       time_signature  valence  popularity  \n",
       "59921               4    0.935        0.29  "
      ]
     },
     "execution_count": 125,
     "metadata": {},
     "output_type": "execute_result"
    }
   ],
   "source": [
    "song = songs.loc[songs['track_id'] == '0qcVzQKAVn7kYWJKRtXedl']\n",
    "song"
   ]
  },
  {
   "cell_type": "code",
   "execution_count": 131,
   "metadata": {},
   "outputs": [
    {
     "name": "stdout",
     "output_type": "stream",
     "text": [
      "         artist_name                     track_name     score\n",
      "9371   ALMOST MONDAY                 Take Me Higher  0.218363\n",
      "5036           REYNA                   Cool With It  0.248958\n",
      "3401        Lovele$$  No Regrets (feat. Lil Yachty)  0.260742\n",
      "4859        goosetaf                        jasmine  0.280025\n",
      "9778  Horse Feathers               Without Applause  0.286869\n"
     ]
    },
    {
     "name": "stderr",
     "output_type": "stream",
     "text": [
      "/Users/maxefremov/anaconda3/envs/U4-S1-NLP/lib/python3.7/site-packages/ipykernel_launcher.py:22: SettingWithCopyWarning: \n",
      "A value is trying to be set on a copy of a slice from a DataFrame.\n",
      "Try using .loc[row_indexer,col_indexer] = value instead\n",
      "\n",
      "See the caveats in the documentation: http://pandas.pydata.org/pandas-docs/stable/indexing.html#indexing-view-versus-copy\n"
     ]
    }
   ],
   "source": [
    "cols = {\"acousticness\": 0.5,\n",
    "        \"danceability\": 1,\n",
    "        \"energy\": 1,\n",
    "        \"instrumentalness\": 0.1,\n",
    "        \"liveness\": 0.5,\n",
    "        \"loudness\": .65,\n",
    "        \"speechiness\": .25,\n",
    "        \"tempo\": 1,\n",
    "        \"time_signature\": 0.1,\n",
    "        \"valence\": 1,\n",
    "        \"popularity\":.6}\n",
    "\n",
    "copied_df = songs.head(10000)\n",
    "songs[\"score\"] = 0.0\n",
    "def test_song(row):\n",
    "    s = 0\n",
    "    for key in cols:\n",
    "        s += abs(song[key] - row[key])*cols[key]\n",
    "    return s\n",
    "\n",
    "\n",
    "copied_df[\"score\"] = copied_df.apply(test_song, axis=1)\n",
    "output = copied_df.sort_values(\"score\", ascending=True)\n",
    "print(output.head(5)[[\"artist_name\", \"track_name\",\"score\"]])"
   ]
  },
  {
   "cell_type": "code",
   "execution_count": null,
   "metadata": {},
   "outputs": [],
   "source": []
  },
  {
   "cell_type": "code",
   "execution_count": 22,
   "metadata": {},
   "outputs": [
    {
     "data": {
      "text/plain": [
       "type"
      ]
     },
     "execution_count": 22,
     "metadata": {},
     "output_type": "execute_result"
    }
   ],
   "source": [
    "type(list)"
   ]
  },
  {
   "cell_type": "code",
   "execution_count": null,
   "metadata": {},
   "outputs": [],
   "source": []
  }
 ],
 "metadata": {
  "kernelspec": {
   "display_name": "U4-S1-NLP (Python3)",
   "language": "python",
   "name": "u4-s1-nlp"
  },
  "language_info": {
   "codemirror_mode": {
    "name": "ipython",
    "version": 3
   },
   "file_extension": ".py",
   "mimetype": "text/x-python",
   "name": "python",
   "nbconvert_exporter": "python",
   "pygments_lexer": "ipython3",
   "version": "3.7.0"
  }
 },
 "nbformat": 4,
 "nbformat_minor": 2
}
